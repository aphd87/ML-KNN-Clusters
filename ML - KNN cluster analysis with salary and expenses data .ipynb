{
 "cells": [
  {
   "cell_type": "code",
   "execution_count": 1,
   "metadata": {},
   "outputs": [],
   "source": [
    "import pandas as pd\n",
    "import numpy as np\n",
    "\n",
    "# import plotting libraries\n",
    "import matplotlib.pyplot as plt\n",
    "\n",
    "# import the ML algorithm\n",
    "from sklearn.neighbors import KNeighborsClassifier\n",
    "from sklearn.neighbors import KNeighborsRegressor\n",
    "\n",
    "from sklearn.neighbors import NearestNeighbors"
   ]
  },
  {
   "cell_type": "markdown",
   "metadata": {},
   "source": [
    "#### Example 1"
   ]
  },
  {
   "cell_type": "code",
   "execution_count": 11,
   "metadata": {},
   "outputs": [],
   "source": [
    "data = {'name':            ['rahim', 'bhupen', 'raja', 'gaba', 'kiran', 'kia', 'jalebi'],\n",
    "        'salary':          [80,       60,       45,     120,     30,     45,     55], \n",
    "        'expenses':        [70,       30,       40,     67,      25,     15,     54],\n",
    "        'attitude':        ['Risky', 'Saving', 'Risky', 'Saving','Risky','Saving','Risky']\n",
    "       }"
   ]
  },
  {
   "cell_type": "code",
   "execution_count": 12,
   "metadata": {},
   "outputs": [
    {
     "data": {
      "text/html": [
       "<div>\n",
       "<style scoped>\n",
       "    .dataframe tbody tr th:only-of-type {\n",
       "        vertical-align: middle;\n",
       "    }\n",
       "\n",
       "    .dataframe tbody tr th {\n",
       "        vertical-align: top;\n",
       "    }\n",
       "\n",
       "    .dataframe thead th {\n",
       "        text-align: right;\n",
       "    }\n",
       "</style>\n",
       "<table border=\"1\" class=\"dataframe\">\n",
       "  <thead>\n",
       "    <tr style=\"text-align: right;\">\n",
       "      <th></th>\n",
       "      <th>name</th>\n",
       "      <th>salary</th>\n",
       "      <th>expenses</th>\n",
       "      <th>attitude</th>\n",
       "    </tr>\n",
       "  </thead>\n",
       "  <tbody>\n",
       "    <tr>\n",
       "      <th>0</th>\n",
       "      <td>rahim</td>\n",
       "      <td>80</td>\n",
       "      <td>70</td>\n",
       "      <td>Risky</td>\n",
       "    </tr>\n",
       "    <tr>\n",
       "      <th>1</th>\n",
       "      <td>bhupen</td>\n",
       "      <td>60</td>\n",
       "      <td>30</td>\n",
       "      <td>Saving</td>\n",
       "    </tr>\n",
       "    <tr>\n",
       "      <th>2</th>\n",
       "      <td>raja</td>\n",
       "      <td>45</td>\n",
       "      <td>40</td>\n",
       "      <td>Risky</td>\n",
       "    </tr>\n",
       "    <tr>\n",
       "      <th>3</th>\n",
       "      <td>gaba</td>\n",
       "      <td>120</td>\n",
       "      <td>67</td>\n",
       "      <td>Saving</td>\n",
       "    </tr>\n",
       "    <tr>\n",
       "      <th>4</th>\n",
       "      <td>kiran</td>\n",
       "      <td>30</td>\n",
       "      <td>25</td>\n",
       "      <td>Risky</td>\n",
       "    </tr>\n",
       "    <tr>\n",
       "      <th>5</th>\n",
       "      <td>kia</td>\n",
       "      <td>45</td>\n",
       "      <td>15</td>\n",
       "      <td>Saving</td>\n",
       "    </tr>\n",
       "    <tr>\n",
       "      <th>6</th>\n",
       "      <td>jalebi</td>\n",
       "      <td>55</td>\n",
       "      <td>54</td>\n",
       "      <td>Risky</td>\n",
       "    </tr>\n",
       "  </tbody>\n",
       "</table>\n",
       "</div>"
      ],
      "text/plain": [
       "     name  salary  expenses attitude\n",
       "0   rahim      80        70    Risky\n",
       "1  bhupen      60        30   Saving\n",
       "2    raja      45        40    Risky\n",
       "3    gaba     120        67   Saving\n",
       "4   kiran      30        25    Risky\n",
       "5     kia      45        15   Saving\n",
       "6  jalebi      55        54    Risky"
      ]
     },
     "execution_count": 12,
     "metadata": {},
     "output_type": "execute_result"
    }
   ],
   "source": [
    "df = pd.DataFrame(data)\n",
    "df"
   ]
  },
  {
   "cell_type": "code",
   "execution_count": 13,
   "metadata": {},
   "outputs": [],
   "source": [
    "train_samples = df[['salary', 'expenses']].values"
   ]
  },
  {
   "cell_type": "code",
   "execution_count": 14,
   "metadata": {},
   "outputs": [],
   "source": [
    "test_customer = np.array([[34, 23]])"
   ]
  },
  {
   "cell_type": "code",
   "execution_count": 15,
   "metadata": {},
   "outputs": [],
   "source": [
    "def compute_neigh_distances(training_samples_arr, test_vector):\n",
    "    neigh_dist_arr = np.sqrt(np.sum(np.power((training_samples_arr - test_vector), 2), axis=1))\n",
    "    \n",
    "    return neigh_dist_arr"
   ]
  },
  {
   "cell_type": "code",
   "execution_count": 16,
   "metadata": {},
   "outputs": [],
   "source": [
    "import heapq"
   ]
  },
  {
   "cell_type": "code",
   "execution_count": 17,
   "metadata": {},
   "outputs": [],
   "source": [
    "plt.style.use('ggplot')"
   ]
  },
  {
   "cell_type": "code",
   "execution_count": 18,
   "metadata": {},
   "outputs": [
    {
     "data": {
      "text/plain": [
       "23"
      ]
     },
     "execution_count": 18,
     "metadata": {},
     "output_type": "execute_result"
    }
   ],
   "source": [
    "test_customer[0][1]"
   ]
  },
  {
   "cell_type": "code",
   "execution_count": 22,
   "metadata": {},
   "outputs": [
    {
     "data": {
      "text/plain": [
       "array([65.76473219, 26.92582404, 20.24845673, 96.60227741,  4.47213595,\n",
       "       13.60147051, 37.44329045])"
      ]
     },
     "execution_count": 22,
     "metadata": {},
     "output_type": "execute_result"
    }
   ],
   "source": [
    "compute_neigh_distances(train_samples, test_customer)"
   ]
  },
  {
   "cell_type": "code",
   "execution_count": 25,
   "metadata": {},
   "outputs": [
    {
     "data": {
      "image/png": "[encoded data removed]",
      "text/plain": [
       "<Figure size 648x504 with 1 Axes>"
      ]
     },
     "metadata": {},
     "output_type": "display_data"
    }
   ],
   "source": [
    "plt.figure(figsize=(9, 7))\n",
    "\n",
    "ax = plt.gca()\n",
    "ax.axis('equal')\n",
    "\n",
    "attitude_type = ['Risky', 'Saving']\n",
    "\n",
    "# plot all training samples\n",
    "scatter = ax.scatter(x = df.salary, \n",
    "                     y = df.expenses, \n",
    "                     c = df.attitude.astype('category').cat.codes,\n",
    "                     cmap ='rainbow_r',\n",
    "                     s = 100\n",
    "                   )\n",
    "# # add legend to the plot with names\n",
    "ax.legend(handles= scatter.legend_elements()[0], \n",
    "           labels = attitude_type,\n",
    "           title  = \"Customer Type\")\n",
    "\n",
    "# # plot test customer\n",
    "ax.scatter( x=test_customer[0][0], \n",
    "            y=test_customer[0][1], \n",
    "            c='k',\n",
    "            s=40\n",
    "           )\n",
    "\n",
    "# # get distances from all the neighbors\n",
    "neigh_distances = compute_neigh_distances(train_samples, test_customer)\n",
    "\n",
    "# # get kth nearest neighbor\n",
    "k = 3\n",
    "radius = heapq.nsmallest(k, neigh_distances)[k-1]\n",
    "\n",
    "ax.add_patch(plt.Circle(test_customer.ravel(), \n",
    "                        radius, \n",
    "                        alpha=0.2, \n",
    "                        zorder=1))\n",
    "plt.xlabel('Salary')\n",
    "plt.ylabel('Expenses');"
   ]
  },
  {
   "cell_type": "markdown",
   "metadata": {},
   "source": [
    "#### Example 3"
   ]
  },
  {
   "cell_type": "code",
   "execution_count": 14,
   "metadata": {},
   "outputs": [],
   "source": [
    "from sklearn.datasets import make_blobs"
   ]
  },
  {
   "cell_type": "code",
   "execution_count": 15,
   "metadata": {},
   "outputs": [],
   "source": [
    "n_classes = 3\n",
    "\n",
    "X, y = make_blobs(n_samples=50, \n",
    "                  centers=3, \n",
    "                  n_features=2,\n",
    "                  cluster_std=0.5,\n",
    "                  center_box=(-5, 5),\n",
    "                  random_state=0)"
   ]
  },
  {
   "cell_type": "code",
   "execution_count": 16,
   "metadata": {},
   "outputs": [
    {
     "data": {
      "image/png": "[encoded data removed]",
      "text/plain": [
       "<Figure size 648x504 with 1 Axes>"
      ]
     },
     "metadata": {},
     "output_type": "display_data"
    }
   ],
   "source": [
    "plt.figure(figsize=(9, 7))\n",
    "\n",
    "ax = plt.gca()\n",
    "ax.axis('equal')\n",
    "\n",
    "# plot all training samples\n",
    "scatter = plt.scatter(  X[:, 0], \n",
    "                        X[:, 1], \n",
    "                        c= y, \n",
    "                        cmap ='rainbow_r',\n",
    "                        s = 50);"
   ]
  },
  {
   "cell_type": "code",
   "execution_count": 17,
   "metadata": {},
   "outputs": [],
   "source": [
    "from ipywidgets import interact, interactive, interactive_output, IntSlider, Layout, interact_manual\n",
    "from ipywidgets import AppLayout, Button, Layout, HBox, Label, VBox, Text\n",
    "import ipywidgets as widgets\n",
    "from IPython.display import display"
   ]
  },
  {
   "cell_type": "code",
   "execution_count": 18,
   "metadata": {},
   "outputs": [],
   "source": [
    "def compute_neigh_distances(training_samples_arr, test_vector):\n",
    "    neigh_dist_arr = np.sqrt(np.sum(np.power((training_samples_arr - test_vector), 2), axis=1))\n",
    "    \n",
    "    return neigh_dist_arr"
   ]
  },
  {
   "cell_type": "code",
   "execution_count": 19,
   "metadata": {},
   "outputs": [],
   "source": [
    "def model_gen(n_neighbors, X_col, Y_col ):  \n",
    "    \n",
    "    plt.figure(figsize=(9, 7))\n",
    "\n",
    "    ax = plt.gca()\n",
    "    ax.axis('equal')\n",
    "\n",
    "    # plot all training samples\n",
    "    scatter = plt.scatter(  X[:, 0], \n",
    "                            X[:, 1], \n",
    "                            c= y, \n",
    "                            cmap ='rainbow_r',\n",
    "                            s = 50);\n",
    "    \n",
    "    # plot test customer\n",
    "    ax.scatter( x=X_col, \n",
    "                y=Y_col, \n",
    "                c='k',\n",
    "                s=40\n",
    "               )\n",
    "    \n",
    "    test_customer = np.array([X_col, Y_col])\n",
    "    \n",
    "    # get distances from all the neighbors\n",
    "    neigh_distances = compute_neigh_distances(X, test_customer)\n",
    "\n",
    "    # get kth nearest neighbor\n",
    "    k = n_neighbors\n",
    "\n",
    "    radius = heapq.nsmallest(k, neigh_distances)[k-1]\n",
    "\n",
    "    ax.add_patch(plt.Circle((X_col, Y_col), \n",
    "                            radius, \n",
    "                            alpha=0.2, \n",
    "                            zorder=1))\n",
    "    plt.xlabel('feature 1')\n",
    "    plt.ylabel('feature 2')\n",
    "    plt.show();"
   ]
  },
  {
   "cell_type": "code",
   "execution_count": 20,
   "metadata": {},
   "outputs": [],
   "source": [
    "n_neighbors= widgets.IntSlider(min=1, \n",
    "                               max=19, \n",
    "                               step=1, \n",
    "                               value=int(1), \n",
    "                               continuous_update=False, \n",
    "                               orientation='horizontal')"
   ]
  },
  {
   "cell_type": "code",
   "execution_count": 21,
   "metadata": {},
   "outputs": [],
   "source": [
    "x_min, x_max = X[:, 0].min() - 1, X[:, 0].max() + 1\n",
    "y_min, y_max = X[:, 1].min() - 1, X[:, 1].max() + 1"
   ]
  },
  {
   "cell_type": "code",
   "execution_count": 22,
   "metadata": {},
   "outputs": [
    {
     "data": {
      "application/vnd.jupyter.widget-view+json": {
       "model_id": "1dea979e34ae40b280b06bc43a288863",
       "version_major": 2,
       "version_minor": 0
      },
      "text/plain": [
       "VBox(children=(HBox(children=(VBox(children=(HBox(children=(Label(value='Neighbors:'), IntSlider(value=1, cont…"
      ]
     },
     "metadata": {},
     "output_type": "display_data"
    },
    {
     "data": {
      "application/vnd.jupyter.widget-view+json": {
       "model_id": "80f72a1436ab45229814073cfe46222e",
       "version_major": 2,
       "version_minor": 0
      },
      "text/plain": [
       "Output()"
      ]
     },
     "metadata": {},
     "output_type": "display_data"
    }
   ],
   "source": [
    "# generate a test point\n",
    "X_col = widgets.FloatSlider(min  =x_min, \n",
    "                            max  =x_max, \n",
    "                            step =(x_max- x_min)/20, \n",
    "                            value=(x_max+ x_min)/2, \n",
    "                            continuous_update=False, \n",
    "                            orientation='horizontal')\n",
    "\n",
    "Y_col = widgets.FloatSlider(min  =y_min, \n",
    "                            max  =y_max, \n",
    "                            step =(y_max- y_min)/20, \n",
    "                            value=(y_max+ y_min)/2, \n",
    "                            continuous_update=False, \n",
    "                            orientation='horizontal')\n",
    "\n",
    "out = interactive_output(model_gen, {\"n_neighbors\": n_neighbors, \n",
    "                                     \"X_col\": X_col,\n",
    "                                     \"Y_col\": Y_col})\n",
    "\n",
    "slider1 = HBox([widgets.Label('Neighbors:'), n_neighbors])\n",
    "\n",
    "box1 = VBox([slider1])\n",
    "\n",
    "test_point_slider_col1 = HBox([widgets.Label('X column : '), X_col])\n",
    "test_point_slider_col2 = HBox([widgets.Label('Y Column : '), Y_col])\n",
    "\n",
    "test_point_box = VBox([test_point_slider_col1, test_point_slider_col2])\n",
    "\n",
    "params = HBox([box1 ])\n",
    "\n",
    "ui = VBox([params, test_point_box])\n",
    "\n",
    "display(ui, out)"
   ]
  },
  {
   "cell_type": "code",
   "execution_count": null,
   "metadata": {},
   "outputs": [],
   "source": []
  },
  {
   "cell_type": "code",
   "execution_count": null,
   "metadata": {},
   "outputs": [],
   "source": []
  }
 ],
 "metadata": {
  "kernelspec": {
   "display_name": "Python 3 (ipykernel)",
   "language": "python",
   "name": "python3"
  },
  "language_info": {
   "codemirror_mode": {
    "name": "ipython",
    "version": 3
   },
   "file_extension": ".py",
   "mimetype": "text/x-python",
   "name": "python",
   "nbconvert_exporter": "python",
   "pygments_lexer": "ipython3",
   "version": "3.9.12"
  }
 },
 "nbformat": 4,
 "nbformat_minor": 4
}
